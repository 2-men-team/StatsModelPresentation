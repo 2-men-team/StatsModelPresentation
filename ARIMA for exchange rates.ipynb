{
 "cells": [
  {
   "cell_type": "markdown",
   "metadata": {},
   "source": [
    "# ARIMA model for exchange rates\n",
    "\n",
    "We will use arima model to find relation within exchange rates time series."
   ]
  },
  {
   "cell_type": "markdown",
   "metadata": {},
   "source": [
    "### Import packages.\n",
    "\n",
    "- `pandas` - package for data manipulation, it will be used to load data from csv.\n",
    "- `matplotlib` - library for image plotting.\n",
    "- `statsmodels` - library of statistical models. "
   ]
  },
  {
   "cell_type": "code",
   "execution_count": 1,
   "metadata": {},
   "outputs": [],
   "source": [
    "import pandas as pd\n",
    "import matplotlib.pyplot as plt\n",
    "\n",
    "from statsmodels.tsa.arima_model import ARIMA\n",
    "from sklearn.model_selection import train_test_split\n",
    "from sklearn.metrics import mean_squared_error"
   ]
  },
  {
   "cell_type": "markdown",
   "metadata": {},
   "source": [
    "### Load the data.\n",
    "\n",
    "The data is stored in 'exchange.csv' file. It is represented as a set of (date, exchange rate) pairs."
   ]
  },
  {
   "cell_type": "code",
   "execution_count": 2,
   "metadata": {},
   "outputs": [],
   "source": [
    "def load_data(file_name):\n",
    "    return pd.read_csv(file_name, parse_dates = [0], index_col = 0, header = 0)"
   ]
  },
  {
   "cell_type": "code",
   "execution_count": 3,
   "metadata": {},
   "outputs": [
    {
     "data": {
      "text/html": [
       "<div>\n",
       "<style scoped>\n",
       "    .dataframe tbody tr th:only-of-type {\n",
       "        vertical-align: middle;\n",
       "    }\n",
       "\n",
       "    .dataframe tbody tr th {\n",
       "        vertical-align: top;\n",
       "    }\n",
       "\n",
       "    .dataframe thead th {\n",
       "        text-align: right;\n",
       "    }\n",
       "</style>\n",
       "<table border=\"1\" class=\"dataframe\">\n",
       "  <thead>\n",
       "    <tr style=\"text-align: right;\">\n",
       "      <th></th>\n",
       "      <th>GBP/USD Close</th>\n",
       "    </tr>\n",
       "  </thead>\n",
       "  <tbody>\n",
       "    <tr>\n",
       "      <th>count</th>\n",
       "      <td>5100.000000</td>\n",
       "    </tr>\n",
       "    <tr>\n",
       "      <th>mean</th>\n",
       "      <td>89.732223</td>\n",
       "    </tr>\n",
       "    <tr>\n",
       "      <th>std</th>\n",
       "      <td>63.037321</td>\n",
       "    </tr>\n",
       "    <tr>\n",
       "      <th>min</th>\n",
       "      <td>17.040000</td>\n",
       "    </tr>\n",
       "    <tr>\n",
       "      <th>25%</th>\n",
       "      <td>45.965000</td>\n",
       "    </tr>\n",
       "    <tr>\n",
       "      <th>50%</th>\n",
       "      <td>73.315500</td>\n",
       "    </tr>\n",
       "    <tr>\n",
       "      <th>75%</th>\n",
       "      <td>94.187500</td>\n",
       "    </tr>\n",
       "    <tr>\n",
       "      <th>max</th>\n",
       "      <td>250.280000</td>\n",
       "    </tr>\n",
       "  </tbody>\n",
       "</table>\n",
       "</div>"
      ],
      "text/plain": [
       "       GBP/USD Close\n",
       "count    5100.000000\n",
       "mean       89.732223\n",
       "std        63.037321\n",
       "min        17.040000\n",
       "25%        45.965000\n",
       "50%        73.315500\n",
       "75%        94.187500\n",
       "max       250.280000"
      ]
     },
     "execution_count": 3,
     "metadata": {},
     "output_type": "execute_result"
    }
   ],
   "source": [
    "data = load_data('exchange.csv')\n",
    "data.describe()"
   ]
  },
  {
   "cell_type": "code",
   "execution_count": 4,
   "metadata": {},
   "outputs": [
    {
     "data": {
      "text/html": [
       "<div>\n",
       "<style scoped>\n",
       "    .dataframe tbody tr th:only-of-type {\n",
       "        vertical-align: middle;\n",
       "    }\n",
       "\n",
       "    .dataframe tbody tr th {\n",
       "        vertical-align: top;\n",
       "    }\n",
       "\n",
       "    .dataframe thead th {\n",
       "        text-align: right;\n",
       "    }\n",
       "</style>\n",
       "<table border=\"1\" class=\"dataframe\">\n",
       "  <thead>\n",
       "    <tr style=\"text-align: right;\">\n",
       "      <th></th>\n",
       "      <th>GBP/USD Close</th>\n",
       "    </tr>\n",
       "    <tr>\n",
       "      <th>Date</th>\n",
       "      <th></th>\n",
       "    </tr>\n",
       "  </thead>\n",
       "  <tbody>\n",
       "    <tr>\n",
       "      <th>1998-12-31</th>\n",
       "      <td>88.67</td>\n",
       "    </tr>\n",
       "    <tr>\n",
       "      <th>1999-01-01</th>\n",
       "      <td>88.67</td>\n",
       "    </tr>\n",
       "    <tr>\n",
       "      <th>1999-01-04</th>\n",
       "      <td>85.60</td>\n",
       "    </tr>\n",
       "    <tr>\n",
       "      <th>1999-01-05</th>\n",
       "      <td>83.95</td>\n",
       "    </tr>\n",
       "    <tr>\n",
       "      <th>1999-01-06</th>\n",
       "      <td>86.96</td>\n",
       "    </tr>\n",
       "  </tbody>\n",
       "</table>\n",
       "</div>"
      ],
      "text/plain": [
       "            GBP/USD Close\n",
       "Date                     \n",
       "1998-12-31          88.67\n",
       "1999-01-01          88.67\n",
       "1999-01-04          85.60\n",
       "1999-01-05          83.95\n",
       "1999-01-06          86.96"
      ]
     },
     "execution_count": 4,
     "metadata": {},
     "output_type": "execute_result"
    }
   ],
   "source": [
    "data.head()"
   ]
  },
  {
   "cell_type": "markdown",
   "metadata": {},
   "source": [
    "### Build ARIMA model.\n",
    "\n",
    "Here we build and train ARIMA model using `ARIMA` class from `statsmodel.tsa.arima_model`."
   ]
  },
  {
   "cell_type": "code",
   "execution_count": 5,
   "metadata": {},
   "outputs": [],
   "source": [
    "def model(data, p, d, q):\n",
    "    model = ARIMA(data, order=(p, d, q))\n",
    "    model = model.fit(disp = 0)\n",
    "    return model.forecast()[0]"
   ]
  },
  {
   "cell_type": "code",
   "execution_count": 6,
   "metadata": {},
   "outputs": [
    {
     "name": "stdout",
     "output_type": "stream",
     "text": [
      "Train shape: (3570, 1)\n",
      "Test shape: (1530, 1)\n"
     ]
    }
   ],
   "source": [
    "data = load_data('exchange.csv').values # convert to np.ndarray\n",
    "train, test = train_test_split(data, test_size = 0.3, shuffle=False)\n",
    "\n",
    "print(\"Train shape: \" + str(train.shape))\n",
    "print(\"Test shape: \" + str(test.shape))"
   ]
  },
  {
   "cell_type": "code",
   "execution_count": 7,
   "metadata": {},
   "outputs": [
    {
     "name": "stdout",
     "output_type": "stream",
     "text": [
      "Real value: [25.703], Predicted value: [24.57641016]\n",
      "Real value: [42.35], Predicted value: [40.81813596]\n",
      "Real value: [48.866], Predicted value: [50.94350437]\n",
      "Real value: [57.668], Predicted value: [57.91148693]\n",
      "Real value: [68.949], Predicted value: [69.29084846]\n",
      "Real value: [71.738], Predicted value: [72.25845069]\n",
      "Real value: [87.08], Predicted value: [87.26278957]\n",
      "Real value: [87.996], Predicted value: [87.45077884]\n",
      "Real value: [81.399], Predicted value: [81.46626]\n",
      "Real value: [62.52], Predicted value: [63.26702394]\n"
     ]
    },
    {
     "name": "stderr",
     "output_type": "stream",
     "text": [
      "/home/caballeto/anaconda3/envs/python37/lib/python3.7/site-packages/statsmodels/base/model.py:508: ConvergenceWarning: Maximum Likelihood optimization failed to converge. Check mle_retvals\n",
      "  \"Check mle_retvals\", ConvergenceWarning)\n"
     ]
    },
    {
     "name": "stdout",
     "output_type": "stream",
     "text": [
      "Real value: [29.877], Predicted value: [32.22912086]\n",
      "Real value: [41.02], Predicted value: [39.58565673]\n",
      "Real value: [36.472], Predicted value: [37.0727161]\n",
      "Real value: [42.03], Predicted value: [42.19647678]\n",
      "Real value: [54.19], Predicted value: [53.57370351]\n",
      "Real value: [46.227], Predicted value: [46.15172243]\n"
     ]
    }
   ],
   "source": [
    "preds = []\n",
    "input_data = train.copy().tolist()\n",
    "\n",
    "p, d, q = 3, 1, 0\n",
    "\n",
    "for index in range(len(test)):\n",
    "    value = test[index]\n",
    "    pred = model(input_data, p, d, q)\n",
    "    \n",
    "    if (index % 100 == 0):\n",
    "        print(\"Real value: {0}, Predicted value: {1}\".format(value, pred))\n",
    "    \n",
    "    preds.append(pred)\n",
    "    input_data.append(value)"
   ]
  },
  {
   "cell_type": "code",
   "execution_count": 8,
   "metadata": {},
   "outputs": [
    {
     "name": "stdout",
     "output_type": "stream",
     "text": [
      "Error: 1.5513681413965725\n"
     ]
    }
   ],
   "source": [
    "print(\"Error: \" + str(mean_squared_error(test, preds)))"
   ]
  },
  {
   "cell_type": "code",
   "execution_count": 9,
   "metadata": {},
   "outputs": [
    {
     "data": {
      "image/png": "[encoded data removed]",
      "text/plain": [
       "<Figure size 432x288 with 1 Axes>"
      ]
     },
     "metadata": {
      "needs_background": "light"
     },
     "output_type": "display_data"
    }
   ],
   "source": [
    "plt.plot(test)\n",
    "plt.plot(preds, color='red')\n",
    "plt.show()"
   ]
  }
 ],
 "metadata": {
  "kernelspec": {
   "display_name": "Python 3",
   "language": "python",
   "name": "python3"
  },
  "language_info": {
   "codemirror_mode": {
    "name": "ipython",
    "version": 3
   },
   "file_extension": ".py",
   "mimetype": "text/x-python",
   "name": "python",
   "nbconvert_exporter": "python",
   "pygments_lexer": "ipython3",
   "version": "3.7.3"
  }
 },
 "nbformat": 4,
 "nbformat_minor": 2
}
